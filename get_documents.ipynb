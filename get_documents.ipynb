{
 "cells": [
  {
   "cell_type": "code",
   "execution_count": null,
   "id": "dfd17fe8-7648-47c3-a706-831bf205824f",
   "metadata": {},
   "outputs": [],
   "source": [
    "import getpass\n",
    "import os\n",
    "\n",
    "if not os.environ.get(\"OPENAI_API_KEY\"):\n",
    "  os.environ[\"OPENAI_API_KEY\"] = getpass.getpass(\"Enter API key for OpenAI: \")\n",
    "\n",
    "from langchain_openai import OpenAIEmbeddings\n",
    "\n",
    "embeddings = OpenAIEmbeddings(model=\"text-embedding-3-large\")"
   ]
  },
  {
   "cell_type": "code",
   "execution_count": null,
   "id": "f64f318a-9b67-4e1c-ae26-38452f9e08fb",
   "metadata": {},
   "outputs": [],
   "source": [
    "from langchain_core.vectorstores import InMemoryVectorStore\n",
    "\n",
    "vector_store = InMemoryVectorStore(embeddings)"
   ]
  },
  {
   "cell_type": "code",
   "execution_count": null,
   "id": "c7e4d435-c749-4872-8767-03fa74ed15e5",
   "metadata": {},
   "outputs": [],
   "source": [
    "# If you haven't set your access token as an environment variable, pass it in here.\n",
    "from getpass import getpass\n",
    "\n",
    "GITHUB_ACCESS_TOKEN = getpass()"
   ]
  },
  {
   "cell_type": "code",
   "execution_count": null,
   "id": "c5fc50f1-5196-49c2-9f76-0a71bb4ed8fc",
   "metadata": {},
   "outputs": [],
   "source": [
    "from langchain_community.document_loaders import GitHubIssuesLoader, GithubFileLoader"
   ]
  },
  {
   "cell_type": "code",
   "execution_count": null,
   "id": "eb14ecf3-0be2-45b3-8d25-6678c03db4e8",
   "metadata": {},
   "outputs": [],
   "source": [
    "# loader = GitHubIssuesLoader(\n",
    "#     repo=\"TorchJD/torchjd\",\n",
    "#     access_token=GITHUB_ACCESS_TOKEN,  # delete/comment out this argument if you've set the access token as an env var.\n",
    "#     state=\"all\",\n",
    "#     # page=2,\n",
    "# )\n",
    "\n",
    "python_code_loader = GithubFileLoader(\n",
    "    repo=\"TorchJD/torchjd\",  # the repo name\n",
    "    branch=\"main\",  # the branch name\n",
    "    access_token=GITHUB_ACCESS_TOKEN,\n",
    "    github_api_url=\"https://api.github.com\",\n",
    "    file_filter=lambda file_path: file_path.endswith(\".py\"),  # load all markdowns files.\n",
    ")\n",
    "\n",
    "docs = python_code_loader.load()"
   ]
  },
  {
   "cell_type": "code",
   "execution_count": null,
   "id": "9fd34d12-2708-4a5a-a1ba-9472f322089a",
   "metadata": {},
   "outputs": [],
   "source": [
    "docs[-1]"
   ]
  },
  {
   "cell_type": "code",
   "execution_count": null,
   "id": "407f60da-e0b7-4706-a429-f9156d386298",
   "metadata": {},
   "outputs": [],
   "source": [
    "len(docs)"
   ]
  },
  {
   "cell_type": "code",
   "execution_count": null,
   "id": "c86cca03-f96c-48c3-80c3-9144018b526c",
   "metadata": {},
   "outputs": [],
   "source": [
    "from langchain_text_splitters import (\n",
    "    Language,\n",
    "    RecursiveCharacterTextSplitter,\n",
    ")"
   ]
  },
  {
   "cell_type": "code",
   "execution_count": null,
   "id": "00c6a5dc-f61c-4b45-b2c8-c1b4d353bc9b",
   "metadata": {},
   "outputs": [],
   "source": [
    "python_splitter = RecursiveCharacterTextSplitter.from_language(\n",
    "    language=Language.PYTHON, chunk_size = 4000, chunk_overlap = 1000\n",
    ")"
   ]
  },
  {
   "cell_type": "code",
   "execution_count": null,
   "id": "b3032361-f1e9-412c-9ac5-c6360d24d296",
   "metadata": {},
   "outputs": [],
   "source": [
    "chunks = python_splitter.split_documents(docs)"
   ]
  },
  {
   "cell_type": "code",
   "execution_count": null,
   "id": "5f74184f-8c0b-430c-b7d9-b117127ad237",
   "metadata": {
    "scrolled": true
   },
   "outputs": [],
   "source": [
    "# str_separation = \"\\n\"*8 + \"-\"*180 + \"\\n\"*8\n",
    "# print(str_separation.join([document.page_content for document in chunks]))"
   ]
  },
  {
   "cell_type": "code",
   "execution_count": null,
   "id": "4f274aa3-0fa0-416d-a553-c1d55c148dc1",
   "metadata": {},
   "outputs": [],
   "source": [
    "document_ids = vector_store.add_documents(documents=chunks)"
   ]
  },
  {
   "cell_type": "code",
   "execution_count": null,
   "id": "60c015de-1ffe-4c14-b024-43e505f08e6c",
   "metadata": {},
   "outputs": [],
   "source": [
    "retrieved_docs = vector_store.similarity_search(\"how to project gradients onto the non-conflicting cone of other gradients\")"
   ]
  },
  {
   "cell_type": "code",
   "execution_count": null,
   "id": "75186baa-c31d-4e21-9bd6-5301ccf165f5",
   "metadata": {},
   "outputs": [],
   "source": [
    "str_separation = \"\\n\" * 8 + \"-\" * 180 + \"\\n\" * 8\n",
    "def print_docs(documents):\n",
    "    for doc in documents:\n",
    "        print(doc.metadata[\"path\"])\n",
    "        print(doc.page_content)\n",
    "        print(str_separation)"
   ]
  },
  {
   "cell_type": "code",
   "execution_count": null,
   "id": "63a4ce83-d221-4065-bd73-3008d5c62647",
   "metadata": {
    "scrolled": true
   },
   "outputs": [],
   "source": [
    "print_docs(retrieved_docs)"
   ]
  },
  {
   "cell_type": "code",
   "execution_count": null,
   "id": "8f5b67ce-59ce-4621-afc1-791bc802c656",
   "metadata": {},
   "outputs": [],
   "source": [
    "from langchain_chroma import Chroma\n",
    "\n",
    "vector_store = Chroma(\n",
    "    collection_name=\"example_collection\",\n",
    "    embedding_function=embeddings,\n",
    "    persist_directory=\"./chroma_langchain_db\",\n",
    ")\n",
    "document_ids = vector_store.add_documents(documents=chunks)"
   ]
  },
  {
   "cell_type": "code",
   "execution_count": null,
   "id": "70363ff0-f881-4a54-812d-2ebf617fe480",
   "metadata": {},
   "outputs": [],
   "source": [
    "retrieved_docs = vector_store.similarity_search(\"how to project gradients onto the non-conflicting cone of other gradients\")"
   ]
  },
  {
   "cell_type": "code",
   "execution_count": null,
   "id": "57d6c225-0e9a-4ac2-8ff8-7ab3f3bb087e",
   "metadata": {},
   "outputs": [],
   "source": [
    "print_docs(retrieved_docs)"
   ]
  },
  {
   "cell_type": "code",
   "execution_count": null,
   "id": "aaa5733d-3b56-48e6-8825-1537a83dcad7",
   "metadata": {},
   "outputs": [],
   "source": []
  }
 ],
 "metadata": {
  "kernelspec": {
   "display_name": "Python 3 (ipykernel)",
   "language": "python",
   "name": "python3"
  },
  "language_info": {
   "codemirror_mode": {
    "name": "ipython",
    "version": 3
   },
   "file_extension": ".py",
   "mimetype": "text/x-python",
   "name": "python",
   "nbconvert_exporter": "python",
   "pygments_lexer": "ipython3",
   "version": "3.13.3"
  }
 },
 "nbformat": 4,
 "nbformat_minor": 5
}
